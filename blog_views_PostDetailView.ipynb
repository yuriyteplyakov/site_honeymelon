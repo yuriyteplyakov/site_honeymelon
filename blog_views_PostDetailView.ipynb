{
 "cells": [
  {
   "cell_type": "code",
   "execution_count": 1,
   "id": "48c931a2",
   "metadata": {},
   "outputs": [],
   "source": [
    "from django.db import models\n",
    "from blog.models import Post, Comment"
   ]
  },
  {
   "cell_type": "code",
   "execution_count": 2,
   "id": "7b2dd029",
   "metadata": {},
   "outputs": [],
   "source": [
    "handle_page = Post.objects.get(id=1)"
   ]
  },
  {
   "cell_type": "code",
   "execution_count": 3,
   "id": "37c531ee",
   "metadata": {},
   "outputs": [],
   "source": [
    "total_comments = handle_page.comments_blog.all()"
   ]
  },
  {
   "cell_type": "code",
   "execution_count": 4,
   "id": "f4fbdc4c",
   "metadata": {},
   "outputs": [
    {
     "data": {
      "text/plain": [
       "<QuerySet [<Comment: Первый пост - agate - 1>, <Comment: Первый пост - agate - 2>]>"
      ]
     },
     "execution_count": 4,
     "metadata": {},
     "output_type": "execute_result"
    }
   ],
   "source": [
    "total_comments"
   ]
  },
  {
   "cell_type": "code",
   "execution_count": 15,
   "id": "f5c11af2",
   "metadata": {},
   "outputs": [],
   "source": [
    "total_comments = handle_page.comments_blog.all().filter(reply_comment=None).order_by('-id').order_by('-date_created')"
   ]
  },
  {
   "cell_type": "code",
   "execution_count": 16,
   "id": "5f32d48c",
   "metadata": {},
   "outputs": [
    {
     "data": {
      "text/plain": [
       "<QuerySet [<Comment: Первый пост - agate - 2>, <Comment: Первый пост - agate - 1>]>"
      ]
     },
     "execution_count": 16,
     "metadata": {},
     "output_type": "execute_result"
    }
   ],
   "source": [
    "total_comments"
   ]
  },
  {
   "cell_type": "code",
   "execution_count": null,
   "id": "c2003de2",
   "metadata": {},
   "outputs": [],
   "source": []
  }
 ],
 "metadata": {
  "kernelspec": {
   "display_name": "Django Shell-Plus",
   "language": "python",
   "name": "django_extensions"
  },
  "language_info": {
   "codemirror_mode": {
    "name": "ipython",
    "version": 3
   },
   "file_extension": ".py",
   "mimetype": "text/x-python",
   "name": "python",
   "nbconvert_exporter": "python",
   "pygments_lexer": "ipython3",
   "version": "3.10.6"
  }
 },
 "nbformat": 4,
 "nbformat_minor": 5
}
